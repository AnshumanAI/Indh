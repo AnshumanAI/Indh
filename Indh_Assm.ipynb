{
  "nbformat": 4,
  "nbformat_minor": 0,
  "metadata": {
    "colab": {
      "provenance": [],
      "authorship_tag": "ABX9TyPZcC4Mfa1RWEw1Mj8lQo9B",
      "include_colab_link": true
    },
    "kernelspec": {
      "name": "python3",
      "display_name": "Python 3"
    },
    "language_info": {
      "name": "python"
    }
  },
  "cells": [
    {
      "cell_type": "markdown",
      "metadata": {
        "id": "view-in-github",
        "colab_type": "text"
      },
      "source": [
        "<a href=\"https://colab.research.google.com/github/AnshumanAI/Indh/blob/main/Indh_Assm.ipynb\" target=\"_parent\"><img src=\"https://colab.research.google.com/assets/colab-badge.svg\" alt=\"Open In Colab\"/></a>"
      ]
    },
    {
      "cell_type": "markdown",
      "source": [
        "Vibe coded implementation of the assignment."
      ],
      "metadata": {
        "id": "zvtaxVWe1oly"
      }
    },
    {
      "cell_type": "markdown",
      "source": [
        "Requests for calls, beautifulsoup for extraction and management."
      ],
      "metadata": {
        "id": "71iUYABI1Ph6"
      }
    },
    {
      "cell_type": "code",
      "execution_count": 9,
      "metadata": {
        "id": "xeZ-EEX7lcnc"
      },
      "outputs": [],
      "source": [
        "!pip install --quiet requests beautifulsoup4"
      ]
    },
    {
      "cell_type": "code",
      "source": [
        "import requests, re, json, textwrap\n",
        "from bs4 import BeautifulSoup\n",
        "from pathlib import Path\n",
        "\n",
        "# URLs from the assignment\n",
        "URLS = {\n",
        "    \"astavakra\"   : \"https://gretil.sub.uni-goettingen.de/gretil/corpustei/transformations/plaintext/sa_aSTAvakragItA.txt\",\n",
        "    # using the **plain‑text** version of Nārāyaṇīya so the same parser works unchanged\n",
        "    \"narayaniya\"  : \"https://gretil.sub.uni-goettingen.de/gretil/corpustei/transformations/plaintext/sa_nArAyaNIya.txt\",\n",
        "}\n",
        "\n",
        "def fetch(url, is_html=False):\n",
        "    r = requests.get(url, timeout=30)\n",
        "    r.raise_for_status()\n",
        "    data = r.text\n",
        "    if is_html:\n",
        "        data = BeautifulSoup(data, \"html.parser\").get_text(\"\\n\")   # strip tags, keep line‑breaks\n",
        "    return data.splitlines()\n",
        "\n",
        "# text lines\n",
        "lines = {\n",
        "    k: fetch(v) for k, v in URLS.items()\n",
        "}"
      ],
      "metadata": {
        "id": "NJR7idYGudS4"
      },
      "execution_count": 10,
      "outputs": []
    },
    {
      "cell_type": "code",
      "source": [
        "from collections import deque\n",
        "\n",
        "def extract_verses(raw_lines):\n",
        "    out          = []\n",
        "    prev_lines   = deque(maxlen=2)\n",
        "    started      = False\n",
        "    tag_re       = re.compile(r\"(.*?)//\\s*(?:[A-Za-z_]+)?([0-9][0-9,\\.]*)\\s*$\")\n",
        "\n",
        "    for line in raw_lines:\n",
        "        line = line.strip()\n",
        "        if not line or line.startswith(\"#\"):\n",
        "            continue\n",
        "\n",
        "        m = tag_re.match(line)\n",
        "        if m:\n",
        "            body = \"\\n\".join((*prev_lines, m.group(1).strip())).strip()\n",
        "            if body:\n",
        "                out.append({\n",
        "                    \"verse\": body,\n",
        "                    \"index\": m.group(2).replace(\",\", \".\")\n",
        "                })\n",
        "            prev_lines.clear()\n",
        "            started = True\n",
        "        elif started:\n",
        "            prev_lines.append(line)\n",
        "\n",
        "    return out"
      ],
      "metadata": {
        "id": "Kq3LKcawufJs"
      },
      "execution_count": 11,
      "outputs": []
    },
    {
      "cell_type": "code",
      "source": [
        "#run the parser\n",
        "astavakra   = extract_verses(lines[\"astavakra\"])\n",
        "narayaniya  = extract_verses(lines[\"narayaniya\"])\n",
        "\n",
        "print(f\"Aṣṭāvakragītā sample →\\n{json.dumps(astavakra[4], ensure_ascii=False, indent=2)}\\n\")\n",
        "print(f\"Nārāyaṇīya sample   →\\n{json.dumps(narayaniya[0], ensure_ascii=False, indent=2)}\")"
      ],
      "metadata": {
        "colab": {
          "base_uri": "https://localhost:8080/"
        },
        "id": "_pSBxRpl0nFI",
        "outputId": "82c6a337-1757-4bf7-adbf-dea74754e7f7"
      },
      "execution_count": 12,
      "outputs": [
        {
          "output_type": "stream",
          "name": "stdout",
          "text": [
            "Aṣṭāvakragītā sample →\n",
            "{\n",
            "  \"verse\": \"na tvaṃ viprādiko varṇo nāśramī nākṣagocaraḥ\\nasaṅgo 'si nirākāro viśvasākṣī sukhī bhava\",\n",
            "  \"index\": \"1.5\"\n",
            "}\n",
            "\n",
            "Nārāyaṇīya sample   →\n",
            "{\n",
            "  \"verse\": \"ya icchet siddhim āsthātuṃ devatāṃ kāṃ yajeta saḥ\",\n",
            "  \"index\": \"12.321.1\"\n",
            "}\n"
          ]
        }
      ]
    },
    {
      "cell_type": "code",
      "source": [
        "all_verses = astavakra + narayaniya\n",
        "Path(\"verses.json\").write_text(json.dumps(all_verses, ensure_ascii=False, indent=2))"
      ],
      "metadata": {
        "colab": {
          "base_uri": "https://localhost:8080/"
        },
        "id": "qRX8X680vLYl",
        "outputId": "c938be75-6a68-4bb8-a744-b529a4a55920"
      },
      "execution_count": 13,
      "outputs": [
        {
          "output_type": "execute_result",
          "data": {
            "text/plain": [
              "180661"
            ]
          },
          "metadata": {},
          "execution_count": 13
        }
      ]
    }
  ]
}